{
 "cells": [
  {
   "cell_type": "markdown",
   "metadata": {},
   "source": [
    "GMM (Gaussian Mixture Model), KDE ( Kernel Density Estimation), KNN, and K-Means"
   ]
  },
  {
   "cell_type": "code",
   "execution_count": 49,
   "metadata": {},
   "outputs": [],
   "source": [
    "%matplotlib inline\n",
    "import pandas as pd\n",
    "import matplotlib.pyplot as plt\n",
    "import numpy as np\n",
    "import scipy.stats as stats\n",
    "import seaborn as sns\n",
    "from IPython import display "
   ]
  },
  {
   "cell_type": "code",
   "execution_count": 46,
   "metadata": {},
   "outputs": [
    {
     "data": {
      "text/html": [
       "<div>\n",
       "<style scoped>\n",
       "    .dataframe tbody tr th:only-of-type {\n",
       "        vertical-align: middle;\n",
       "    }\n",
       "\n",
       "    .dataframe tbody tr th {\n",
       "        vertical-align: top;\n",
       "    }\n",
       "\n",
       "    .dataframe thead th {\n",
       "        text-align: right;\n",
       "    }\n",
       "</style>\n",
       "<table border=\"1\" class=\"dataframe\">\n",
       "  <thead>\n",
       "    <tr style=\"text-align: right;\">\n",
       "      <th></th>\n",
       "      <th>sepal length in cm</th>\n",
       "      <th>sepal width in cm</th>\n",
       "      <th>petal length in cm</th>\n",
       "      <th>petal width in cm</th>\n",
       "      <th>class</th>\n",
       "    </tr>\n",
       "  </thead>\n",
       "  <tbody>\n",
       "    <tr>\n",
       "      <th>0</th>\n",
       "      <td>5.1</td>\n",
       "      <td>3.5</td>\n",
       "      <td>1.4</td>\n",
       "      <td>0.2</td>\n",
       "      <td>Iris-setosa</td>\n",
       "    </tr>\n",
       "    <tr>\n",
       "      <th>1</th>\n",
       "      <td>4.9</td>\n",
       "      <td>3.0</td>\n",
       "      <td>1.4</td>\n",
       "      <td>0.2</td>\n",
       "      <td>Iris-setosa</td>\n",
       "    </tr>\n",
       "    <tr>\n",
       "      <th>2</th>\n",
       "      <td>4.7</td>\n",
       "      <td>3.2</td>\n",
       "      <td>1.3</td>\n",
       "      <td>0.2</td>\n",
       "      <td>Iris-setosa</td>\n",
       "    </tr>\n",
       "    <tr>\n",
       "      <th>3</th>\n",
       "      <td>4.6</td>\n",
       "      <td>3.1</td>\n",
       "      <td>1.5</td>\n",
       "      <td>0.2</td>\n",
       "      <td>Iris-setosa</td>\n",
       "    </tr>\n",
       "    <tr>\n",
       "      <th>4</th>\n",
       "      <td>5.0</td>\n",
       "      <td>3.6</td>\n",
       "      <td>1.4</td>\n",
       "      <td>0.2</td>\n",
       "      <td>Iris-setosa</td>\n",
       "    </tr>\n",
       "    <tr>\n",
       "      <th>...</th>\n",
       "      <td>...</td>\n",
       "      <td>...</td>\n",
       "      <td>...</td>\n",
       "      <td>...</td>\n",
       "      <td>...</td>\n",
       "    </tr>\n",
       "    <tr>\n",
       "      <th>145</th>\n",
       "      <td>6.7</td>\n",
       "      <td>3.0</td>\n",
       "      <td>5.2</td>\n",
       "      <td>2.3</td>\n",
       "      <td>Iris-virginica</td>\n",
       "    </tr>\n",
       "    <tr>\n",
       "      <th>146</th>\n",
       "      <td>6.3</td>\n",
       "      <td>2.5</td>\n",
       "      <td>5.0</td>\n",
       "      <td>1.9</td>\n",
       "      <td>Iris-virginica</td>\n",
       "    </tr>\n",
       "    <tr>\n",
       "      <th>147</th>\n",
       "      <td>6.5</td>\n",
       "      <td>3.0</td>\n",
       "      <td>5.2</td>\n",
       "      <td>2.0</td>\n",
       "      <td>Iris-virginica</td>\n",
       "    </tr>\n",
       "    <tr>\n",
       "      <th>148</th>\n",
       "      <td>6.2</td>\n",
       "      <td>3.4</td>\n",
       "      <td>5.4</td>\n",
       "      <td>2.3</td>\n",
       "      <td>Iris-virginica</td>\n",
       "    </tr>\n",
       "    <tr>\n",
       "      <th>149</th>\n",
       "      <td>5.9</td>\n",
       "      <td>3.0</td>\n",
       "      <td>5.1</td>\n",
       "      <td>1.8</td>\n",
       "      <td>Iris-virginica</td>\n",
       "    </tr>\n",
       "  </tbody>\n",
       "</table>\n",
       "<p>150 rows × 5 columns</p>\n",
       "</div>"
      ],
      "text/plain": [
       "     sepal length in cm  sepal width in cm  petal length in cm  \\\n",
       "0                   5.1                3.5                 1.4   \n",
       "1                   4.9                3.0                 1.4   \n",
       "2                   4.7                3.2                 1.3   \n",
       "3                   4.6                3.1                 1.5   \n",
       "4                   5.0                3.6                 1.4   \n",
       "..                  ...                ...                 ...   \n",
       "145                 6.7                3.0                 5.2   \n",
       "146                 6.3                2.5                 5.0   \n",
       "147                 6.5                3.0                 5.2   \n",
       "148                 6.2                3.4                 5.4   \n",
       "149                 5.9                3.0                 5.1   \n",
       "\n",
       "     petal width in cm           class  \n",
       "0                  0.2     Iris-setosa  \n",
       "1                  0.2     Iris-setosa  \n",
       "2                  0.2     Iris-setosa  \n",
       "3                  0.2     Iris-setosa  \n",
       "4                  0.2     Iris-setosa  \n",
       "..                 ...             ...  \n",
       "145                2.3  Iris-virginica  \n",
       "146                1.9  Iris-virginica  \n",
       "147                2.0  Iris-virginica  \n",
       "148                2.3  Iris-virginica  \n",
       "149                1.8  Iris-virginica  \n",
       "\n",
       "[150 rows x 5 columns]"
      ]
     },
     "execution_count": 46,
     "metadata": {},
     "output_type": "execute_result"
    }
   ],
   "source": [
    "iris = pd.read_csv(\"iris.data\", names = [\"sepal length in cm\", \"sepal width in cm\", \"petal length in cm\", \"petal width in cm\", \"class\"])\n",
    "iris"
   ]
  },
  {
   "cell_type": "code",
   "execution_count": 6,
   "metadata": {},
   "outputs": [
    {
     "data": {
      "text/plain": [
       "<seaborn.axisgrid.FacetGrid at 0x7fde1fe06a00>"
      ]
     },
     "execution_count": 6,
     "metadata": {},
     "output_type": "execute_result"
    },
    {
     "data": {
      "text/plain": [
       "<Figure size 432x288 with 0 Axes>"
      ]
     },
     "metadata": {},
     "output_type": "display_data"
    },
    {
     "data": {
      "image/png": "[encoded data removed]",
      "text/plain": [
       "<Figure size 360x360 with 1 Axes>"
      ]
     },
     "metadata": {
      "needs_background": "light"
     },
     "output_type": "display_data"
    }
   ],
   "source": [
    "plt.figure(1)\n",
    "sns.displot(iris[\"petal length in cm\"], stat = \"density\", bins= 30)"
   ]
  },
  {
   "cell_type": "markdown",
   "metadata": {},
   "source": [
    "### Gaussian "
   ]
  },
  {
   "cell_type": "code",
   "execution_count": 7,
   "metadata": {},
   "outputs": [
    {
     "data": {
      "image/png": "[encoded data removed]",
      "text/plain": [
       "<IPython.core.display.Image object>"
      ]
     },
     "execution_count": 7,
     "metadata": {},
     "output_type": "execute_result"
    }
   ],
   "source": [
    "display.Image(\"Univariate_Gaussian.png\")"
   ]
  },
  {
   "cell_type": "code",
   "execution_count": 8,
   "metadata": {
    "scrolled": true
   },
   "outputs": [
    {
     "data": {
      "text/plain": [
       "[<matplotlib.lines.Line2D at 0x7fde200fb610>]"
      ]
     },
     "execution_count": 8,
     "metadata": {},
     "output_type": "execute_result"
    },
    {
     "data": {
      "text/plain": [
       "<Figure size 432x288 with 0 Axes>"
      ]
     },
     "metadata": {},
     "output_type": "display_data"
    },
    {
     "data": {
      "image/png": "[encoded data removed]",
      "text/plain": [
       "<Figure size 360x360 with 1 Axes>"
      ]
     },
     "metadata": {
      "needs_background": "light"
     },
     "output_type": "display_data"
    }
   ],
   "source": [
    "x = np.arange(-3,11,0.1)\n",
    "y = stats.norm(iris[\"petal length in cm\"].mean(),iris[\"petal length in cm\"].std()).pdf(x)\n",
    "plt.figure(2)\n",
    "sns.displot(iris[\"petal length in cm\"], stat = \"density\", bins= 30)\n",
    "plt.plot(x, y, label = \"Univariate Gaussian\", c= \"g\")"
   ]
  },
  {
   "cell_type": "markdown",
   "metadata": {},
   "source": [
    "### Gaussian Mixture Model (GMM)\n",
    "A sum of weighted Gaussians\n",
    "\n",
    "$ p(x) = \\sum \\limits _{k=1}^{K}\\pi_{k}\\cal{N}(x | \\mu_{k},\\sigma_{k}^2) $\n",
    "\n",
    "$ 0 \\le \\pi_{k} \\le 1 $\n",
    "\n",
    "$ \\sum \\limits _{k=1}^{K} \\pi_{k} = 1 $\n",
    "\n",
    "K = # of gaussians to fit to data\n",
    "\n",
    "#### Expectation Step\n",
    "Calulate the likelihood of observations x with the learning parameters using pdf for normal distribution\n",
    "\n",
    "$ \\cal{N}(x | \\mu_{k},\\sigma_{k}^2) = \\frac{1}{(2\\pi\\sigma^2)^{1/2}} exp \\bigg\\{\\frac{-1}{2\\sigma^2}(x-\\mu)^2\\bigg\\} $\n",
    "\n",
    "#### Maximization Step\n",
    "$ \\gamma_{k}$ is the likelihood that a given observation x belongs the the Kth gaussian\n",
    "\n",
    "$ \\gamma_{k} = \\frac{\\pi_{k}\\cal{N}(x | \\mu_{k},\\sigma_{k}^2)}{\\sum \\limits _{k=1}^{K}\\pi_{k}\\cal{N}(x | \\mu_{k},\\sigma_{k}^2)} $\n",
    "\n",
    "Re-evalute the learning parameters $\\mu_{k},\\sigma_{k}^2,\\pi_{k}$\n",
    "\n",
    "$ \\mu_{k} = \\frac{\\sum \\gamma_{k}x}{\\sum \\gamma_{k}} $\n",
    "\n",
    "$ \\sigma_{k}^2 = \\frac{\\sum\\gamma_{k}(x-\\mu_{k})^2}{\\sum \\gamma_{k}}$\n",
    "\n",
    "$ \\pi_{k} = \\frac{1}{N}\\sum\\gamma_{k} $\n",
    "\n"
   ]
  },
  {
   "cell_type": "markdown",
   "metadata": {},
   "source": [
    "### Expectation Maximization\n"
   ]
  },
  {
   "cell_type": "code",
   "execution_count": 52,
   "metadata": {},
   "outputs": [
    {
     "name": "stderr",
     "output_type": "stream",
     "text": [
      "<ipython-input-52-8ce46be014d6>:24: DeprecationWarning: Calling np.sum(generator) is deprecated, and in the future will give a different result. Use np.sum(np.fromiter(generator)) or the python sum builtin instead.\n",
      "  sum = np.sum(likelihood[k]*weight[k] for k in range(K))\n"
     ]
    }
   ],
   "source": [
    "# try to fit two gaussians\n",
    "K=2\n",
    "mean = np.array([1,7])\n",
    "variance = np.array([0.1,0.5])\n",
    "# start with it being equal likelihood that observation comes from either gaussian \n",
    "weight = np.array([0.5,0.5])\n",
    "\n",
    "notConverged = True\n",
    "\n",
    "while notConverged:\n",
    "    priorMean = np.copy(mean)\n",
    "    priorVar = np.copy(variance)\n",
    "    priorWeight = np.copy(weight)\n",
    "\n",
    "    # Expectation step\n",
    "    likelihoodList = []\n",
    "    for k in range(K):\n",
    "        y = stats.norm(mean[k],np.sqrt(variance[k])).pdf(iris[\"petal length in cm\"])\n",
    "        likelihoodList.append(y)\n",
    "    likelihood = np.array(likelihoodList)\n",
    "\n",
    "    # Maximization step\n",
    "    gamma = []\n",
    "    sum = np.sum(likelihood[k]*weight[k] for k in range(K))\n",
    "    for k in range(K):\n",
    "        gamma.append((likelihood[k]*weight[k])/sum)\n",
    "        # update step\n",
    "        mean[k] = np.sum(gamma[k]*iris[\"petal length in cm\"] / np.sum(gamma[k]))\n",
    "        variance[k] = np.sum(gamma[k]* np.square(iris[\"petal length in cm\"] - mean[k])) / np.sum(gamma[k])\n",
    "        weight[k] = np.mean(gamma[k])\n",
    "    \n",
    "    if (priorMean == mean).all() and (priorVar == variance).all() and (priorWeight == weight).all():\n",
    "        notConverged = False\n",
    "    \n",
    "    mvw = pd.DataFrame([mean,priorMean,variance,priorVar,weight,priorWeight])\n",
    "    mvw = mvw.transpose()\n",
    "    mvw.columns = [\"mean\",\"prior mean\",\"variance\",\"prior variance\",\"weight\",\"prior weight\"]\n",
    "    \n"
   ]
  },
  {
   "cell_type": "code",
   "execution_count": 53,
   "metadata": {},
   "outputs": [
    {
     "data": {
      "text/plain": [
       "[<matplotlib.lines.Line2D at 0x7fde22ad1e50>]"
      ]
     },
     "execution_count": 53,
     "metadata": {},
     "output_type": "execute_result"
    },
    {
     "data": {
      "text/plain": [
       "<Figure size 432x288 with 0 Axes>"
      ]
     },
     "metadata": {},
     "output_type": "display_data"
    },
    {
     "data": {
      "image/png": "[encoded data removed]",
      "text/plain": [
       "<Figure size 360x360 with 1 Axes>"
      ]
     },
     "metadata": {
      "needs_background": "light"
     },
     "output_type": "display_data"
    }
   ],
   "source": [
    "x = np.arange(-3,11,0.1)\n",
    "y1 = stats.norm(mean[0],np.sqrt(variance[0])).pdf(x)\n",
    "y2 = stats.norm(mean[1],np.sqrt(variance[1])).pdf(x)\n",
    "plt.figure(2)\n",
    "sns.displot(iris[\"petal length in cm\"], stat = \"density\", bins= 30)\n",
    "plt.plot(x, y1, c= \"g\")\n",
    "plt.plot(x, y2, c= \"g\")"
   ]
  },
  {
   "cell_type": "markdown",
   "metadata": {},
   "source": [
    "### Gaussian Multivariate"
   ]
  },
  {
   "cell_type": "code",
   "execution_count": 80,
   "metadata": {},
   "outputs": [
    {
     "data": {
      "image/png": "[encoded data removed]",
      "text/plain": [
       "<IPython.core.display.Image object>"
      ]
     },
     "execution_count": 80,
     "metadata": {},
     "output_type": "execute_result"
    }
   ],
   "source": [
    "display.Image(\"Multivariate_Gaussian.png\")"
   ]
  },
  {
   "cell_type": "markdown",
   "metadata": {},
   "source": [
    "Σ = a DxD dimensional covariance matrix\n",
    "\n",
    "µ = a D-Dimensional mean vector\n",
    "\n",
    "|Σ| = determinant of Σ\n"
   ]
  },
  {
   "cell_type": "code",
   "execution_count": 50,
   "metadata": {},
   "outputs": [
    {
     "name": "stdout",
     "output_type": "stream",
     "text": [
      "                    sepal length in cm  sepal width in cm  petal length in cm  \\\n",
      "sepal length in cm            0.685694          -0.039268            1.273682   \n",
      "sepal width in cm            -0.039268           0.188004           -0.321713   \n",
      "petal length in cm            1.273682          -0.321713            3.113179   \n",
      "petal width in cm             0.516904          -0.117981            1.296387   \n",
      "\n",
      "                    petal width in cm  \n",
      "sepal length in cm           0.516904  \n",
      "sepal width in cm           -0.117981  \n",
      "petal length in cm           1.296387  \n",
      "petal width in cm            0.582414  \n",
      "count    150.000000\n",
      "mean       3.758667\n",
      "std        1.764420\n",
      "min        1.000000\n",
      "25%        1.600000\n",
      "50%        4.350000\n",
      "75%        5.100000\n",
      "max        6.900000\n",
      "Name: petal length in cm, dtype: float64\n"
     ]
    },
    {
     "data": {
      "text/plain": [
       "<matplotlib.legend.Legend at 0x7fde213a2940>"
      ]
     },
     "execution_count": 50,
     "metadata": {},
     "output_type": "execute_result"
    },
    {
     "data": {
      "image/png": "[encoded data removed]",
      "text/plain": [
       "<Figure size 432x288 with 1 Axes>"
      ]
     },
     "metadata": {
      "needs_background": "light"
     },
     "output_type": "display_data"
    }
   ],
   "source": [
    "print(iris.cov())\n",
    "print(iris[\"petal length in cm\"].describe())\n",
    "\n",
    "setosa = iris.loc[iris[\"class\"] == \"Iris-setosa\"]\n",
    "versicolor = iris.loc[iris[\"class\"] == \"Iris-versicolor\"]\n",
    "verginica = iris.loc[iris[\"class\"] == \"Iris-virginica\"]\n",
    "plt.figure(0)\n",
    "plt.xlabel(\"petal length in cm\")\n",
    "plt.ylabel(\"petal width in cm\")\n",
    "plt.scatter(x=setosa[\"petal length in cm\"], y=setosa[\"petal width in cm\"], c= 'b', label = \"Iris-setosa\")\n",
    "plt.scatter(x=versicolor[\"petal length in cm\"], y=versicolor[\"petal width in cm\"], c= 'y', label = \"Iris-versicolor\" )\n",
    "plt.scatter(x=verginica[\"petal length in cm\"], y=verginica[\"petal width in cm\"], c= 'g', label = \"Iris-virginica\")\n",
    "plt.legend()\n"
   ]
  },
  {
   "cell_type": "code",
   "execution_count": null,
   "metadata": {},
   "outputs": [],
   "source": []
  }
 ],
 "metadata": {
  "kernelspec": {
   "display_name": "Python 3",
   "language": "python",
   "name": "python3"
  },
  "language_info": {
   "codemirror_mode": {
    "name": "ipython",
    "version": 3
   },
   "file_extension": ".py",
   "mimetype": "text/x-python",
   "name": "python",
   "nbconvert_exporter": "python",
   "pygments_lexer": "ipython3",
   "version": "3.8.5"
  }
 },
 "nbformat": 4,
 "nbformat_minor": 4
}
